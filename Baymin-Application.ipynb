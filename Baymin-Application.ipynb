{
  "nbformat": 4,
  "nbformat_minor": 0,
  "metadata": {
    "colab": {
      "provenance": [],
      "authorship_tag": "ABX9TyOHx95IVArDOklmvuNXfuCi",
      "include_colab_link": true
    },
    "kernelspec": {
      "name": "python3",
      "display_name": "Python 3"
    },
    "language_info": {
      "name": "python"
    }
  },
  "cells": [
    {
      "cell_type": "markdown",
      "metadata": {
        "id": "view-in-github",
        "colab_type": "text"
      },
      "source": [
        "<a href=\"https://colab.research.google.com/github/namritha-maddali/Baymin/blob/main/Baymin.ipynb\" target=\"_parent\"><img src=\"https://colab.research.google.com/assets/colab-badge.svg\" alt=\"Open In Colab\"/></a>"
      ]
    },
    {
      "cell_type": "code",
      "execution_count": null,
      "metadata": {
        "id": "bGCIfjUF9j_o"
      },
      "outputs": [],
      "source": [
        "!pip install openai tiktoken langchain faiss-cpu pypdf streamlit streamlit_chat\n",
        "!npm install localtunnel"
      ]
    },
    {
      "cell_type": "code",
      "source": [
        "%%writefile app.py\n",
        "\n",
        "import streamlit as st\n",
        "\n",
        "import openai\n",
        "import os\n",
        "os.environ['OPENAI_API_KEY'] = 'your-api-key'\n",
        "openai_api_key = 'your-api-key'\n",
        "\n",
        "from langchain.document_loaders import PyPDFLoader\n",
        "from langchain.text_splitter import CharacterTextSplitter\n",
        "from langchain.embeddings import OpenAIEmbeddings\n",
        "from langchain.chat_models import ChatOpenAI\n",
        "from langchain.vectorstores import FAISS\n",
        "from langchain.memory import ConversationBufferMemory\n",
        "from langchain.prompts import ChatPromptTemplate, SystemMessagePromptTemplate\n",
        "from langchain.chains import ConversationalRetrievalChain\n",
        "from langchain.chains.question_answering import load_qa_chain\n",
        "\n",
        "st.set_page_config(page_title=\"Your Person First Aid Companion\", page_icon=\"🏥\")\n",
        "st.title('Hello, I am Baymin!')\n",
        "st.caption('I am like Baymax, your personal healthcare companion but mostly for first aid')\n",
        "tab1= st.tabs([\"First Aid\"])\n",
        "\n",
        "loader = PyPDFLoader('/content/first-aid.pdf')\n",
        "pages = loader.load_and_split()\n",
        "\n",
        "text_splitter = CharacterTextSplitter(chunk_size=1000, chunk_overlap=80)\n",
        "documents = text_splitter.split_documents(pages)\n",
        "\n",
        "embeddings = OpenAIEmbeddings()\n",
        "llm = ChatOpenAI(temperature=1, model='gpt-3.5-turbo')\n",
        "\n",
        "db = FAISS.from_documents(documents,embeddings)\n",
        "\n",
        "baymax_template = \"\"\" You are an extremely well trained paramedic who knows everything to do in different kinds of \\\n",
        "    emergency situations that require first aid. You have all the information regarding what first aid precautions and \\\n",
        "    measures that must be taken in different kinds of situations. You can use the document being given through the \\\n",
        "    document along with the information you already have regarding emergency situations and first aid. \\\n",
        "    You are the first point of contact for the person performing first aid on someone who needs it. \\\n",
        "    You give precise, accurate and short answers in steps format that to tell the steps regarding what must be done as \\\n",
        "    it is an emergency situation where the person must act fast.\n",
        "\n",
        "    context: {context}?\n",
        "    here is a prompt asked by a layman bystander who wants to perform first aid immediately:\n",
        "    {question}\n",
        "\"\"\"\n",
        "\n",
        "memory = ConversationBufferMemory(\n",
        "    llm = llm,\n",
        "    output_key = 'answer',\n",
        "    memory_key = 'chat_history',\n",
        "    return_messages = True)\n",
        "\n",
        "retriever = db.as_retriever(\n",
        "    search_type = \"mmr\",\n",
        "    search_kwargs = {\"k\": 5, \"include_metadata\": True})\n",
        "\n",
        "\n",
        "messages = [SystemMessagePromptTemplate.from_template(baymax_template)]\n",
        "qa_prompt = ChatPromptTemplate.from_messages(messages)\n",
        "\n",
        "chain = ConversationalRetrievalChain.from_llm(\n",
        "    llm = llm,\n",
        "    memory = memory,\n",
        "    chain_type = \"stuff\",\n",
        "    retriever = retriever,\n",
        "    return_source_documents = True,\n",
        "    get_chat_history = lambda h : h,\n",
        "    combine_docs_chain_kwargs = {'prompt': qa_prompt},\n",
        "    verbose = False,\n",
        ")\n",
        "\n",
        "if \"chat_history\" not in st.session_state:\n",
        "    st.session_state[\"chat_history\"] = []\n",
        "if \"generated\" not in st.session_state:\n",
        "    st.session_state[\"generated\"] = [\"Hello, I am Baymin. Your personal first aid companion. I was alerted to the need for medical attention when you said, \\\"ow\\\"\"]\n",
        "if \"past\" not in st.session_state:\n",
        "    st.session_state[\"past\"] = [\"Ow\"]\n",
        "\n",
        "response_container = st.container()      # container for the chat history\n",
        "container = st.container()               # container for the user's text input\n",
        "\n",
        "def generate_response(query):\n",
        "    result = chain({\"question\": query, \"chat_history\": st.session_state[\"chat_history\"]})\n",
        "    # st.write(result['answer'])\n",
        "    st.session_state['chat_history'] = [(query, result['answer'])]\n",
        "\n",
        "    # with st.sidebar:\n",
        "        # st.write(result['source_documents'])\n",
        "\n",
        "    return result['answer']\n",
        "\n",
        "with container:\n",
        "    user_input = st.chat_input(placeholder = \" what emergency are you facing?\")\n",
        "    if user_input:\n",
        "      output = generate_response(user_input)\n",
        "      st.session_state[\"past\"].append(user_input)\n",
        "      st.session_state[\"generated\"].append(output)\n",
        "      st.session_state[\"chat_history\"] = [(user_input, output)]\n",
        "\n",
        "with response_container:\n",
        "    for i in range(len(st.session_state[\"generated\"])):\n",
        "        st.chat_message('user_input', avatar='🧑🏻‍⚕️').write(st.session_state[\"past\"][i],key=str(i) + '_user')\n",
        "        st.chat_message('user', avatar='🤖').write(st.session_state[\"generated\"][i],key=str(i))"
      ],
      "metadata": {
        "id": "rA8EDEU5-ZHH"
      },
      "execution_count": null,
      "outputs": []
    },
    {
      "cell_type": "code",
      "source": [
        "!curl https://ipv4.icanhazip.com/\n",
        "!streamlit run /content/app.py &>/content/logs.txt &"
      ],
      "metadata": {
        "colab": {
          "base_uri": "https://localhost:8080/"
        },
        "id": "XtJRt3DpcWA1",
        "outputId": "567999e2-d587-40b6-da85-08e5b772c804"
      },
      "execution_count": 9,
      "outputs": [
        {
          "output_type": "stream",
          "name": "stdout",
          "text": [
            "34.68.49.165\n"
          ]
        }
      ]
    },
    {
      "cell_type": "code",
      "source": [
        "!npx localtunnel --port 8501"
      ],
      "metadata": {
        "colab": {
          "base_uri": "https://localhost:8080/"
        },
        "id": "2yLxBuilcauX",
        "outputId": "c15e9caa-9ede-478f-f442-c225f5844f79"
      },
      "execution_count": null,
      "outputs": [
        {
          "output_type": "stream",
          "name": "stdout",
          "text": [
            "\u001b[K\u001b[?25hnpx: installed 22 in 2.643s\n",
            "your url is: https://neat-rats-trade.loca.lt\n"
          ]
        }
      ]
    }
  ]
}
